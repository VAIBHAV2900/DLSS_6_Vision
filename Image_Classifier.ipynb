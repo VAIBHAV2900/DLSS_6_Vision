{
  "nbformat": 4,
  "nbformat_minor": 0,
  "metadata": {
    "colab": {
      "name": "Image Classifier.ipynb",
      "provenance": [],
      "collapsed_sections": []
    },
    "kernelspec": {
      "name": "python3",
      "display_name": "Python 3"
    },
    "language_info": {
      "name": "python"
    }
  },
  "cells": [
    {
      "cell_type": "markdown",
      "metadata": {
        "id": "8iseq6NvinMb"
      },
      "source": [
        "## **Image Classification Model - CNN**\n",
        "# Summer School Session 6"
      ]
    },
    {
      "cell_type": "markdown",
      "metadata": {
        "id": "NE-RA68Yi5Hq"
      },
      "source": [
        "This is the follow up code to the session 6, which describes the basics of CNNs, their properties, and their components."
      ]
    },
    {
      "cell_type": "markdown",
      "metadata": {
        "id": "D_AfG-OujB-4"
      },
      "source": [
        "Here we will be using PyTorch, so let us import the libraries."
      ]
    },
    {
      "cell_type": "code",
      "metadata": {
        "id": "IoRDXJKPjQ9O"
      },
      "source": [
        "import torch \n",
        "import torch.nn as nn\n",
        "import torchvision\n",
        "import torchvision.transforms as transforms\n",
        "import matplotlib.pyplot as plt"
      ],
      "execution_count": null,
      "outputs": []
    },
    {
      "cell_type": "markdown",
      "metadata": {
        "id": "0ehUSe79jR1h"
      },
      "source": [
        "Now, we will setup a GPU to be used (if available)."
      ]
    },
    {
      "cell_type": "code",
      "metadata": {
        "id": "F055Xo2ljcRB"
      },
      "source": [
        "# Device configuration\n",
        "device = torch.device('cuda:0' if torch.cuda.is_available() else 'cpu')"
      ],
      "execution_count": null,
      "outputs": []
    },
    {
      "cell_type": "markdown",
      "metadata": {
        "id": "F-2rte45jfmR"
      },
      "source": [
        "Let us define the relevant hyperparameters here, so that they can be accessed and changed easily."
      ]
    },
    {
      "cell_type": "code",
      "metadata": {
        "id": "_NVuN7GJjmFo"
      },
      "source": [
        "# Hyper parameters\n",
        "num_epochs = 5\n",
        "num_classes = 10\n",
        "batch_size = 100\n",
        "learning_rate = 0.001"
      ],
      "execution_count": null,
      "outputs": []
    },
    {
      "cell_type": "markdown",
      "metadata": {
        "id": "E7ypvVAijn82"
      },
      "source": [
        "For this example, we will be using the famous MNIST dataset, which is already available in PyTorch to be downloaded and used directly.<br>\n",
        "Wikipedia page of the dataset: https://en.wikipedia.org/wiki/MNIST_database <br>\n",
        "Here, we are downloading the test and train sets."
      ]
    },
    {
      "cell_type": "code",
      "metadata": {
        "id": "K9paAyM5j898"
      },
      "source": [
        "# MNIST dataset\n",
        "train_dataset = torchvision.datasets.MNIST(root='../../data/',\n",
        "                                           train=True, \n",
        "                                           transform=transforms.ToTensor(),\n",
        "                                           download=True)\n",
        "\n",
        "test_dataset = torchvision.datasets.MNIST(root='../../data/',\n",
        "                                          train=False, \n",
        "                                          transform=transforms.ToTensor())"
      ],
      "execution_count": null,
      "outputs": []
    },
    {
      "cell_type": "markdown",
      "metadata": {
        "id": "suZAkQID-M8M"
      },
      "source": [
        "Here are some examples of images taken from the MNIST dataset. <br> They are handwritten digits, from 0-9.\n",
        "![MNIST examples](https://machinelearningmastery.com/wp-content/uploads/2019/02/Plot-of-a-Subset-of-Images-from-the-MNIST-Dataset.png)"
      ]
    },
    {
      "cell_type": "markdown",
      "metadata": {
        "id": "tSLOqG98j9oM"
      },
      "source": [
        "Now, let us utilise the PyTorch feature of dataloaders to load the data for use in the model."
      ]
    },
    {
      "cell_type": "code",
      "metadata": {
        "id": "_rGLRKoKkYNj"
      },
      "source": [
        "# Data loader\n",
        "train_loader = torch.utils.data.DataLoader(dataset=train_dataset,\n",
        "                                           batch_size=batch_size, \n",
        "                                           shuffle=True)\n",
        "\n",
        "test_loader = torch.utils.data.DataLoader(dataset=test_dataset,\n",
        "                                          batch_size=batch_size, \n",
        "                                          shuffle=False)"
      ],
      "execution_count": null,
      "outputs": []
    },
    {
      "cell_type": "markdown",
      "metadata": {
        "id": "cwut5iEwkY3f"
      },
      "source": [
        "Next, we will define the CNN model we will be using for this task.<br>\n",
        "Notice the use of convolutional, pooling, and fully connected (linear) layers in this model, which we had described in detail in the slides.<br>\n",
        "Also pay attention to the usage of batchnorm, which, as explained in the slides, helps in training."
      ]
    },
    {
      "cell_type": "code",
      "metadata": {
        "id": "gTK6TM0mkn1N"
      },
      "source": [
        "# Convolutional neural network (two convolutional layers)\n",
        "class ConvNet(nn.Module):\n",
        "    def __init__(self, num_classes=10):\n",
        "        super(ConvNet, self).__init__()\n",
        "        self.layer1 = nn.Sequential(\n",
        "            nn.Conv2d(1, 16, kernel_size=5, stride=1, padding=2),\n",
        "            nn.BatchNorm2d(16),\n",
        "            nn.ReLU(),\n",
        "            nn.MaxPool2d(kernel_size=2, stride=2))\n",
        "        self.layer2 = nn.Sequential(\n",
        "            nn.Conv2d(16, 32, kernel_size=5, stride=1, padding=2),\n",
        "            nn.BatchNorm2d(32),\n",
        "            nn.ReLU(),\n",
        "            nn.MaxPool2d(kernel_size=2, stride=2))\n",
        "        self.fc = nn.Linear(7*7*32, num_classes)\n",
        "        \n",
        "    def forward(self, x):\n",
        "        out = self.layer1(x)\n",
        "        out = self.layer2(out)\n",
        "        out = out.reshape(out.size(0), -1)\n",
        "        out = self.fc(out)\n",
        "        return out"
      ],
      "execution_count": null,
      "outputs": []
    },
    {
      "cell_type": "markdown",
      "metadata": {
        "id": "VGML0z3Wk-GB"
      },
      "source": [
        "We then initialize an object of the model defined."
      ]
    },
    {
      "cell_type": "code",
      "metadata": {
        "id": "RzudgDtFlAlT"
      },
      "source": [
        "model = ConvNet(num_classes).to(device)\n"
      ],
      "execution_count": null,
      "outputs": []
    },
    {
      "cell_type": "markdown",
      "metadata": {
        "id": "T4LEJ5fGlBk_"
      },
      "source": [
        "Next, let us define the loss function and optimizer to be used."
      ]
    },
    {
      "cell_type": "code",
      "metadata": {
        "id": "0zGzO5c6lFdO"
      },
      "source": [
        "# Loss and optimizer\n",
        "criterion = nn.CrossEntropyLoss()\n",
        "optimizer = torch.optim.Adam(model.parameters(), lr=learning_rate)"
      ],
      "execution_count": null,
      "outputs": []
    },
    {
      "cell_type": "markdown",
      "metadata": {
        "id": "hJp_i_bRlF_v"
      },
      "source": [
        "Now, let us run the training loop for the model to generate predictions."
      ]
    },
    {
      "cell_type": "code",
      "metadata": {
        "colab": {
          "base_uri": "https://localhost:8080/"
        },
        "id": "uINyOCw8lLz0",
        "outputId": "b17dee7c-446c-4fee-c1fc-26a98aab0082"
      },
      "source": [
        "# Train the model\n",
        "total_step = len(train_loader)\n",
        "for epoch in range(num_epochs):\n",
        "    for i, (images, labels) in enumerate(train_loader):\n",
        "        images = images.to(device)\n",
        "        labels = labels.to(device)\n",
        "        \n",
        "        # Forward pass\n",
        "        outputs = model(images)\n",
        "        loss = criterion(outputs, labels)\n",
        "        \n",
        "        # Backward and optimize\n",
        "        optimizer.zero_grad()\n",
        "        loss.backward()\n",
        "        optimizer.step()\n",
        "        \n",
        "        if (i+1) % 100 == 0:\n",
        "            print ('Epoch [{}/{}], Step [{}/{}], Loss: {:.4f}' \n",
        "                   .format(epoch+1, num_epochs, i+1, total_step, loss.item()))"
      ],
      "execution_count": null,
      "outputs": [
        {
          "output_type": "stream",
          "text": [
            "Epoch [1/5], Step [100/600], Loss: 0.1514\n",
            "Epoch [1/5], Step [200/600], Loss: 0.1737\n",
            "Epoch [1/5], Step [300/600], Loss: 0.0945\n",
            "Epoch [1/5], Step [400/600], Loss: 0.0758\n",
            "Epoch [1/5], Step [500/600], Loss: 0.0619\n",
            "Epoch [1/5], Step [600/600], Loss: 0.0187\n",
            "Epoch [2/5], Step [100/600], Loss: 0.0406\n",
            "Epoch [2/5], Step [200/600], Loss: 0.0198\n",
            "Epoch [2/5], Step [300/600], Loss: 0.1034\n",
            "Epoch [2/5], Step [400/600], Loss: 0.0774\n",
            "Epoch [2/5], Step [500/600], Loss: 0.0463\n",
            "Epoch [2/5], Step [600/600], Loss: 0.0278\n",
            "Epoch [3/5], Step [100/600], Loss: 0.1004\n",
            "Epoch [3/5], Step [200/600], Loss: 0.0293\n",
            "Epoch [3/5], Step [300/600], Loss: 0.0551\n",
            "Epoch [3/5], Step [400/600], Loss: 0.0129\n",
            "Epoch [3/5], Step [500/600], Loss: 0.0225\n",
            "Epoch [3/5], Step [600/600], Loss: 0.0247\n",
            "Epoch [4/5], Step [100/600], Loss: 0.0326\n",
            "Epoch [4/5], Step [200/600], Loss: 0.0340\n",
            "Epoch [4/5], Step [300/600], Loss: 0.0156\n",
            "Epoch [4/5], Step [400/600], Loss: 0.0036\n",
            "Epoch [4/5], Step [500/600], Loss: 0.1421\n",
            "Epoch [4/5], Step [600/600], Loss: 0.0195\n",
            "Epoch [5/5], Step [100/600], Loss: 0.0144\n",
            "Epoch [5/5], Step [200/600], Loss: 0.0109\n",
            "Epoch [5/5], Step [300/600], Loss: 0.0154\n",
            "Epoch [5/5], Step [400/600], Loss: 0.0502\n",
            "Epoch [5/5], Step [500/600], Loss: 0.0111\n",
            "Epoch [5/5], Step [600/600], Loss: 0.0167\n"
          ],
          "name": "stdout"
        }
      ]
    },
    {
      "cell_type": "markdown",
      "metadata": {
        "id": "Z05rCQUWlMtk"
      },
      "source": [
        "Finally, we will run the evaluation loop to test the model's predictions."
      ]
    },
    {
      "cell_type": "code",
      "metadata": {
        "colab": {
          "base_uri": "https://localhost:8080/"
        },
        "id": "s6Z3bLATlVF_",
        "outputId": "87803316-81b7-4a16-c716-08fd394cd56f"
      },
      "source": [
        "# Test the model\n",
        "model.eval()  # eval mode (batchnorm uses moving mean/variance instead of mini-batch mean/variance)\n",
        "with torch.no_grad():\n",
        "    correct = 0\n",
        "    total = 0\n",
        "    for images, labels in test_loader:\n",
        "        images = images.to(device)\n",
        "        labels = labels.to(device)\n",
        "        outputs = model(images)\n",
        "        _, predicted = torch.max(outputs.data, 1)\n",
        "        total += labels.size(0)\n",
        "        correct += (predicted == labels).sum().item()\n",
        "\n",
        "    print('Test Accuracy of the model on the 10000 test images: {} %'.format(100 * correct / total))"
      ],
      "execution_count": null,
      "outputs": [
        {
          "output_type": "stream",
          "text": [
            "Test Accuracy of the model on the 10000 test images: 99.08 %\n"
          ],
          "name": "stdout"
        }
      ]
    },
    {
      "cell_type": "markdown",
      "metadata": {
        "id": "9VRUE8mglXmm"
      },
      "source": [
        "And that's it! We've just gone through a very basic CNN in PyTorch, and seen how it can be used to classify the MNIST dataset."
      ]
    },
    {
      "cell_type": "markdown",
      "metadata": {
        "id": "0Uj_6KicYKQw"
      },
      "source": [
        "Source for the code: https://github.com/yunjey/pytorch-tutorial/blob/master/tutorials/02-intermediate/convolutional_neural_network/main.py"
      ]
    },
    {
      "cell_type": "markdown",
      "metadata": {
        "id": "Khfw5lE9lghi"
      },
      "source": [
        "#Take-home Assignment:\n",
        "As you may recall, we touched upon the topic of transfer learning today and how one can use pre-trained weights with a classification task for better performance.<br>\n",
        "Try experimenting with various pre-trained models and see which ones do better on this dataset! <br>\n",
        "Note: You don't need to train the model; just load up the pre-trained weights directly and see which model performs better."
      ]
    }
  ]
}