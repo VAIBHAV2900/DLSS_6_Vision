{
  "nbformat": 4,
  "nbformat_minor": 0,
  "metadata": {
    "colab": {
      "name": "EE19S039_Assgn_6.ipynb",
      "provenance": [],
      "collapsed_sections": [],
      "authorship_tag": "ABX9TyNQhDUOeBPum+gkuvC6pjWV",
      "include_colab_link": true
    },
    "kernelspec": {
      "name": "python3",
      "display_name": "Python 3"
    },
    "language_info": {
      "name": "python"
    },
    "accelerator": "GPU"
  },
  "cells": [
    {
      "cell_type": "markdown",
      "metadata": {
        "id": "view-in-github",
        "colab_type": "text"
      },
      "source": [
        "<a href=\"https://colab.research.google.com/github/VAIBHAV2900/DLSS_6_Vision/blob/main/EE19S039_Assgn_6.ipynb\" target=\"_parent\"><img src=\"https://colab.research.google.com/assets/colab-badge.svg\" alt=\"Open In Colab\"/></a>"
      ]
    },
    {
      "cell_type": "code",
      "metadata": {
        "id": "3DyeyGNCzV0d"
      },
      "source": [
        "import torch \n",
        "import torch.nn as nn"
      ],
      "execution_count": 57,
      "outputs": []
    },
    {
      "cell_type": "code",
      "metadata": {
        "id": "me9rT0SQzW-2"
      },
      "source": [
        "# Convolutional neural network (two convolutional layers)\n",
        "class MODEL(nn.Module):\n",
        "    def __init__(self, num_classes):\n",
        "        super(MODEL, self).__init__()\n",
        "        self.layer1 = nn.Sequential(\n",
        "            nn.Conv2d(256, 256, kernel_size=(1, 1), stride=1, padding=\"same\"),\n",
        "            nn.BatchNorm2d(256),\n",
        "            nn.LeakyReLU(0.1)\n",
        "        )\n",
        "        \n",
        "    def forward(self, x):\n",
        "        X_shortcut = x\n",
        "        out = self.layer1(x)\n",
        "        \n",
        "        import pdb; pdb.set_trace()\n",
        "        # out = out.reshape(out.size(0), -1)\n",
        "        # out = self.fc(out)\n",
        "        # Final step: Add shortcut value to main path\n",
        "        out = torch.add(X_shortcut, out)\n",
        "\n",
        "        return out"
      ],
      "execution_count": 61,
      "outputs": []
    },
    {
      "cell_type": "code",
      "metadata": {
        "id": "hZ8ne93r5qyx"
      },
      "source": [
        "model = MODEL(num_classes).to(device)"
      ],
      "execution_count": 62,
      "outputs": []
    }
  ]
}